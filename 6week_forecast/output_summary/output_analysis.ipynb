{
 "cells": [
  {
   "cell_type": "code",
   "execution_count": 2,
   "id": "3824749c",
   "metadata": {},
   "outputs": [
    {
     "data": {
      "text/plain": [
       "112196"
      ]
     },
     "execution_count": 2,
     "metadata": {},
     "output_type": "execute_result"
    }
   ],
   "source": [
    "import pandas as pd\n",
    "import numpy as np\n",
    "from datetime import datetime, timedelta\n",
    "from sklearn.metrics import r2_score\n",
    "from sklearn.metrics import mean_absolute_percentage_error\n",
    "import warnings\n",
    "import xgboost as xgb\n",
    "from sklearn.ensemble import RandomForestRegressor\n",
    "from pmdarima import auto_arima\n",
    "# Ignore SettingWithCopyWarning\n",
    "warnings.filterwarnings(\"ignore\")\n",
    "# Assuming you have a hierarchical DataFrame named 'sales_data' with columns 'Foodcourt', 'Restaurant', 'Item'\n",
    "df = pd.read_excel(\"meals_std.xlsx\")\n",
    "df = df.reset_index(drop = True)\n",
    "df = df[[\"foodcourt\",\"restaurant\",\"restaurantmenuitem\",\"date\",\"total_count\"]]\n",
    "len(df)"
   ]
  },
  {
   "cell_type": "code",
   "execution_count": 18,
   "id": "8fd77423",
   "metadata": {},
   "outputs": [
    {
     "data": {
      "text/plain": [
       "Index(['foodcourt', 'restaurant', 'restaurantmenuitem', 'accuracy_xgb_lag',\n",
       "       'accuracy_xgb_norm', 'accuracy_rf_lag', 'accuracy_prophet',\n",
       "       'accuracy_prophet_multi', 'accuracy_deep_AR', 'accuracy_lgb_lag',\n",
       "       'accuracy_deepar_multi', 'accuracy_lr', 'accuracy_xgb_multi'],\n",
       "      dtype='object')"
      ]
     },
     "execution_count": 18,
     "metadata": {},
     "output_type": "execute_result"
    }
   ],
   "source": [
    "output = pd.read_excel(\"output_summary_7.xlsx\")\n",
    "output.columns\n"
   ]
  },
  {
   "cell_type": "code",
   "execution_count": 19,
   "id": "a59a5145",
   "metadata": {},
   "outputs": [],
   "source": [
    "output['max_accuracy'] = output[['accuracy_xgb_lag','accuracy_rf_lag',\"accuracy_lgb_lag\", 'accuracy_xgb_norm','accuracy_prophet',\"accuracy_prophet_multi\",\"accuracy_deep_AR\",\"accuracy_deepar_multi\",'accuracy_lr', 'accuracy_xgb_multi']].max(axis=1)\n",
    "output['best_model'] = output[['accuracy_xgb_lag', 'accuracy_rf_lag',\"accuracy_lgb_lag\",'accuracy_xgb_norm','accuracy_prophet',\"accuracy_prophet_multi\",\"accuracy_deep_AR\",\"accuracy_deepar_multi\",'accuracy_lr', 'accuracy_xgb_multi']].idxmax(axis=1)"
   ]
  },
  {
   "cell_type": "code",
   "execution_count": 20,
   "id": "64e47349",
   "metadata": {},
   "outputs": [],
   "source": [
    "def segment_max_accuracy(accuracy):\n",
    "    if accuracy >= 0.90:\n",
    "        return '>90'\n",
    "    elif .80 <= accuracy < .90:\n",
    "        return '80-90'\n",
    "    elif .70 <= accuracy < .80:\n",
    "        return '70-80'\n",
    "    elif .50 <= accuracy < .70:\n",
    "        return '50-70'\n",
    "    else:\n",
    "        return '<50'\n",
    "\n",
    "def add_max_accuracy_segment(df):\n",
    "    df['max_accuracy_segment'] = df['max_accuracy'].apply(segment_max_accuracy)\n",
    "    return df\n",
    "\n",
    "# Apply the function to your DataFrame\n",
    "output = add_max_accuracy_segment(output)"
   ]
  },
  {
   "cell_type": "code",
   "execution_count": 21,
   "id": "f1f13e26",
   "metadata": {},
   "outputs": [
    {
     "data": {
      "text/plain": [
       "max_accuracy_segment\n",
       ">90      240\n",
       "80-90    271\n",
       "70-80    256\n",
       "50-70    162\n",
       "<50       44\n",
       "dtype: int64"
      ]
     },
     "execution_count": 21,
     "metadata": {},
     "output_type": "execute_result"
    }
   ],
   "source": [
    "pivot_table_df = output.pivot_table(index='max_accuracy_segment',  aggfunc='size', fill_value=0)\n",
    "desired_order_rows = ['>90','80-90','70-80','50-70','<50' ]\n",
    "pivot_table_df = pivot_table_df.reindex(index=desired_order_rows)\n",
    "pivot_table_df"
   ]
  },
  {
   "cell_type": "code",
   "execution_count": null,
   "id": "15c5cb04",
   "metadata": {},
   "outputs": [],
   "source": []
  }
 ],
 "metadata": {
  "kernelspec": {
   "display_name": "Python 3",
   "language": "python",
   "name": "python3"
  },
  "language_info": {
   "codemirror_mode": {
    "name": "ipython",
    "version": 3
   },
   "file_extension": ".py",
   "mimetype": "text/x-python",
   "name": "python",
   "nbconvert_exporter": "python",
   "pygments_lexer": "ipython3",
   "version": "3.10.13"
  }
 },
 "nbformat": 4,
 "nbformat_minor": 5
}
